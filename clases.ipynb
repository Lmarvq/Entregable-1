{
 "cells": [
  {
   "cell_type": "code",
   "execution_count": null,
   "metadata": {},
   "outputs": [],
   "source": [
    "class Implante():\n",
    "    def __init__(self):\n",
    "        self.__tamaño = 0\n",
    "        self.__material = \"\"\n",
    "        \n",
    "        self.__serial = 0\n",
    "\n",
    "    def AsignarT(self, t):\n",
    "        self.__tamaño = t\n",
    "    def AsignarM(self, m):\n",
    "        self.__material = m\n",
    "    \n",
    "    def AsignarS(self, s):\n",
    "        self.__serial = s\n",
    "\n",
    "    def ObtenerT(self):\n",
    "        return self.__tamaño\n",
    "    def ObtenerM(self):\n",
    "        return self.__material\n",
    "    \n",
    "    def ObtenerS(self):\n",
    "        return self.__serial\n"
   ]
  },
  {
   "cell_type": "code",
   "execution_count": null,
   "metadata": {},
   "outputs": [],
   "source": [
    "class Marcapasos(Implante):\n",
    "    def __init__(self):\n",
    "        super(Implante).__init__()\n",
    "        self.__NElectrodos = 0\n",
    "        self.__tipo = \"\"\n",
    "        self.__frecuencia = 0\n",
    "\n",
    "    def AsignarNE(self, ne):\n",
    "        self.__NElectrodos = ne\n",
    "    def AsignarTipo(self, tipo):\n",
    "        self.__tipo = tipo\n",
    "    def AsignarF(self, f):\n",
    "        self.__frecuencia = f\n",
    "\n",
    "    def ObtenerNE(self):\n",
    "        return self.__NElectrodos\n",
    "    def ObtenerTipo(self):\n",
    "        return self.__tipo\n",
    "    def ObtenerF(self):\n",
    "        return self.__frecuencia"
   ]
  },
  {
   "cell_type": "code",
   "execution_count": null,
   "metadata": {},
   "outputs": [],
   "source": [
    "class Stent_Coronario(Implante):\n",
    "    def __init__(self):\n",
    "        super(Implante).__init__()\n",
    "        self.__longitud = 0\n",
    "        self.__diametro = 0\n",
    "\n",
    "    def AsignarLongitud(self, l):\n",
    "        self.__longitud = l\n",
    "    def AsignarDiametro(self, d):\n",
    "        self.__diametro = d\n",
    "        \n",
    "    def ObtenerLong(self):\n",
    "        return self.__longitud\n",
    "    def ObtenerDiametro(self):\n",
    "        return self.__diametro\n",
    "    "
   ]
  },
  {
   "cell_type": "code",
   "execution_count": null,
   "metadata": {},
   "outputs": [],
   "source": [
    "class Implante_Dental(Implante):\n",
    "    def __init__(self):\n",
    "        super(Implante).__init__()\n",
    "        self.__sistemafijacion = \"\"\n",
    "        self.__forma = \"\"\n",
    "\n",
    "    def AsignarSF(self, sf):\n",
    "        self.__sistemafijacion = sf\n",
    "    def AsignarForma(self, f):\n",
    "        self.__forma = f\n",
    "        \n",
    "    def ObtenerForma(self):\n",
    "        return self.__forma\n",
    "    def ObtenerSF(self):\n",
    "        return self.__sistemafijacion\n",
    "    \n"
   ]
  },
  {
   "cell_type": "code",
   "execution_count": null,
   "metadata": {},
   "outputs": [],
   "source": [
    "class Implante_Cadera(Implante):\n",
    "    def __init__(self):\n",
    "        super(Implante).__init__()\n",
    "        self.__tipofijacion = \"\""
   ]
  }
 ],
 "metadata": {
  "language_info": {
   "name": "python"
  }
 },
 "nbformat": 4,
 "nbformat_minor": 2
}
